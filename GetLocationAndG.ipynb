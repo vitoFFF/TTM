{
 "cells": [
  {
   "cell_type": "code",
   "execution_count": null,
   "metadata": {},
   "outputs": [],
   "source": [
    "import requests\n",
    "import json\n",
    "import time\n",
    "\n",
    "prev_value = None\n",
    "count = 0  # Initialize iteration count to zero\n",
    "\n",
    "while True:\n",
    "    #get SID\n",
    "    urls = \"https://hst-api.wialon.com/wialon/ajax.html?svc=token/login&params={\\\"token\\\":\\\"014dd3a86c5da0541a4412b8302df421A32C93EAB14CAC0E5E485DF60C7018BF7D26CB31\\\"}\"\n",
    "\n",
    "    responses = requests.get(urls)\n",
    "\n",
    "    if responses.status_code == 200:\n",
    "        data = json.loads(responses.content.decode('utf-8'))\n",
    "        eid = data[\"eid\"]\n",
    "        #print(\"EID: {}\".format(eid))\n",
    "    else:\n",
    "        print(\"Error: {}\".format(responses.status_code))\n",
    "\n",
    "    #get the GPS location and G force\n",
    "\n",
    "    url = f\"https://hst-api.wialon.com/avl_evts?sid={eid}\"\n",
    "\n",
    "    response = requests.get(url)\n",
    "\n",
    "    if response.status_code == 200:\n",
    "        data = response.json()\n",
    "        print(data)\n",
    "        # Do something with the JSON data\n",
    "    else:\n",
    "        print(\"Error: Request failed with status code\", response.status_code)\n",
    "    \n",
    "\n",
    "\n",
    "  \n",
    "\n",
    "    # Wait for 5 seconds before making the next request\n",
    "    time.sleep(6)    \n",
    "\n",
    "\n"
   ]
  }
 ],
 "metadata": {
  "kernelspec": {
   "display_name": "Python 3",
   "language": "python",
   "name": "python3"
  },
  "language_info": {
   "codemirror_mode": {
    "name": "ipython",
    "version": 3
   },
   "file_extension": ".py",
   "mimetype": "text/x-python",
   "name": "python",
   "nbconvert_exporter": "python",
   "pygments_lexer": "ipython3",
   "version": "3.11.2"
  },
  "orig_nbformat": 4,
  "vscode": {
   "interpreter": {
    "hash": "6420c47de9974942d85827e0484fdb52b5b423fe4cb09aa4be6f6c4bc4d9cdff"
   }
  }
 },
 "nbformat": 4,
 "nbformat_minor": 2
}
